{
 "cells": [
  {
   "cell_type": "markdown",
   "metadata": {
    "colab_type": "text",
    "id": "EU8dxvtz2jxP"
   },
   "source": [
    "# Simple test\n",
    "\n",
    "A sanity check. Feel free to reach me should you ran into any problems."
   ]
  },
  {
   "cell_type": "markdown",
   "metadata": {
    "colab_type": "text",
    "id": "ZQNMluNU2jxR"
   },
   "source": [
    "\n",
    "KNN classifier on MNIST data\n"
   ]
  },
  {
   "cell_type": "code",
   "execution_count": 1,
   "metadata": {
    "ExecuteTime": {
     "end_time": "2020-01-10T06:03:07.599778Z",
     "start_time": "2020-01-10T06:03:06.051234Z"
    },
    "colab": {},
    "colab_type": "code",
    "id": "r5jhOMcY2jxV"
   },
   "outputs": [],
   "source": [
    "import numpy as np\n",
    "from sklearn.datasets import fetch_openml\n"
   ]
  },
  {
   "cell_type": "code",
   "execution_count": 2,
   "metadata": {
    "ExecuteTime": {
     "end_time": "2020-01-10T06:03:31.914621Z",
     "start_time": "2020-01-10T06:03:07.603970Z"
    },
    "colab": {},
    "colab_type": "code",
    "id": "S1Fhhr9N2jxY"
   },
   "outputs": [],
   "source": [
    "# download the mnist data\n",
    "mnist = fetch_openml('mnist_784', version=1, return_X_y=True)"
   ]
  },
  {
   "cell_type": "code",
   "execution_count": 3,
   "metadata": {
    "ExecuteTime": {
     "end_time": "2020-01-10T06:03:31.927681Z",
     "start_time": "2020-01-10T06:03:31.917689Z"
    },
    "colab": {},
    "colab_type": "code",
    "id": "Whm4WHhS2jxa"
   },
   "outputs": [
    {
     "name": "stdout",
     "output_type": "stream",
     "text": [
      "for speed up, I only use the first 1000 samples\n"
     ]
    }
   ],
   "source": [
    "# data loading\n",
    "\n",
    "# N_train = 60000\n",
    "print(\"for speed up, I only use the first 1000 samples\")\n",
    "N_train = 1000 # speed up\n",
    "\n",
    "np.random.seed(0)\n",
    "X,y = mnist\n",
    "\n",
    "X_train = X[:N_train]\n",
    "X_test = X[60000:]\n",
    "y_train = y[:N_train]\n",
    "y_test = y[60000:]"
   ]
  },
  {
   "cell_type": "markdown",
   "metadata": {},
   "source": [
    "## Using the Scikit KNN classifier"
   ]
  },
  {
   "cell_type": "code",
   "execution_count": 4,
   "metadata": {
    "ExecuteTime": {
     "end_time": "2020-01-10T06:03:32.046673Z",
     "start_time": "2020-01-10T06:03:31.932885Z"
    },
    "colab": {
     "base_uri": "https://localhost:8080/",
     "height": 68
    },
    "colab_type": "code",
    "id": "EFmqqPev2jxc",
    "outputId": "b6e42a3d-1813-4c31-bb69-19e16d68e023"
   },
   "outputs": [
    {
     "data": {
      "text/plain": [
       "KNeighborsClassifier(algorithm='auto', leaf_size=30, metric='minkowski',\n",
       "                     metric_params=None, n_jobs=None, n_neighbors=1, p=2,\n",
       "                     weights='uniform')"
      ]
     },
     "execution_count": 4,
     "metadata": {},
     "output_type": "execute_result"
    }
   ],
   "source": [
    "from sklearn.neighbors import KNeighborsClassifier as KNN\n",
    "from sklearn.metrics import accuracy_score\n",
    "# fit the model\n",
    "K=1\n",
    "knn = KNN(n_neighbors=K)\n",
    "knn.fit(X_train, y_train)"
   ]
  },
  {
   "cell_type": "code",
   "execution_count": 5,
   "metadata": {
    "ExecuteTime": {
     "end_time": "2020-01-10T06:05:49.493497Z",
     "start_time": "2020-01-10T06:03:32.050854Z"
    },
    "colab": {
     "base_uri": "https://localhost:8080/",
     "height": 34
    },
    "colab_type": "code",
    "id": "dHm9gCP07ne5",
    "outputId": "4417afa4-505f-4c99-c882-2365699b484a"
   },
   "outputs": [
    {
     "name": "stdout",
     "output_type": "stream",
     "text": [
      "starting predicting. But finding nearest neighbour is not so quick (if you use the full training set) \n",
      "the test error(inaccuracy) is:  0.131\n",
      "starting predicting. But finding nearest neighbour is not so quick (if you use the full training set) \n",
      "the test error(inaccuracy) is:  0.131\n",
      "starting predicting. But finding nearest neighbour is not so quick (if you use the full training set) \n",
      "the test error(inaccuracy) is:  0.131\n",
      "starting predicting. But finding nearest neighbour is not so quick (if you use the full training set) \n",
      "the test error(inaccuracy) is:  0.131\n",
      "starting predicting. But finding nearest neighbour is not so quick (if you use the full training set) \n",
      "the test error(inaccuracy) is:  0.131\n",
      "starting predicting. But finding nearest neighbour is not so quick (if you use the full training set) \n",
      "the test error(inaccuracy) is:  0.131\n",
      "starting predicting. But finding nearest neighbour is not so quick (if you use the full training set) \n",
      "the test error(inaccuracy) is:  0.131\n",
      "starting predicting. But finding nearest neighbour is not so quick (if you use the full training set) \n",
      "the test error(inaccuracy) is:  0.131\n",
      "starting predicting. But finding nearest neighbour is not so quick (if you use the full training set) \n",
      "the test error(inaccuracy) is:  0.131\n",
      "starting predicting. But finding nearest neighbour is not so quick (if you use the full training set) \n",
      "the test error(inaccuracy) is:  0.131\n",
      "13.7 s ± 1.2 s per loop (mean ± std. dev. of 10 runs, 1 loop each)\n"
     ]
    }
   ],
   "source": [
    "%%timeit -n 1 -r 10\n",
    "# track the execution time, change the loop time if you want\n",
    "# test the accuracy\n",
    "print(\"starting predicting. But finding nearest neighbour is not so quick (if you use the full training set) \")\n",
    "y_pred = knn.predict(X_test)\n",
    "test_error_rate = 1 - accuracy_score(y_pred, y_test)\n",
    "print(\"the test error(inaccuracy) is: \",test_error_rate)"
   ]
  },
  {
   "cell_type": "markdown",
   "metadata": {
    "colab_type": "text",
    "id": "V_djwV632xUn"
   },
   "source": [
    "\n",
    "## Using FLANN KNN\n"
   ]
  },
  {
   "cell_type": "code",
   "execution_count": 6,
   "metadata": {
    "ExecuteTime": {
     "end_time": "2020-01-10T06:05:51.635958Z",
     "start_time": "2020-01-10T06:05:49.499412Z"
    },
    "inputHidden": false,
    "outputHidden": false
   },
   "outputs": [
    {
     "name": "stdout",
     "output_type": "stream",
     "text": [
      "first get the FLANN for python if you have not install it\n",
      "Requirement already satisfied: pyflann-py3 in /Users/lucy/anaconda3/lib/python3.7/site-packages (0.1.0)\n"
     ]
    }
   ],
   "source": [
    "print(\"first get the FLANN for python if you have not install it\")\n",
    "!pip install pyflann-py3"
   ]
  },
  {
   "cell_type": "code",
   "execution_count": 7,
   "metadata": {
    "ExecuteTime": {
     "end_time": "2020-01-10T06:05:51.760006Z",
     "start_time": "2020-01-10T06:05:51.640837Z"
    }
   },
   "outputs": [
    {
     "name": "stdout",
     "output_type": "stream",
     "text": [
      "XXXdasdasdaX!!!\n",
      "(1000, 1)\n"
     ]
    }
   ],
   "source": [
    "%load_ext autoreload\n",
    "%autoreload 2\n",
    "    \n",
    "from flann_knn import KNeighborsClassifier as FLANN_KNN\n",
    "K=1\n",
    "flann_knn = FLANN_KNN(n_neighbors=K)\n",
    "flann_knn.fit(X_train, y_train)"
   ]
  },
  {
   "cell_type": "code",
   "execution_count": 8,
   "metadata": {
    "ExecuteTime": {
     "end_time": "2020-01-10T06:06:01.944878Z",
     "start_time": "2020-01-10T06:05:51.763305Z"
    },
    "inputHidden": false,
    "outputHidden": false
   },
   "outputs": [
    {
     "name": "stdout",
     "output_type": "stream",
     "text": [
      "the test error(inaccuracy) of FLANN approximation is:  0.1412\n",
      "the test error(inaccuracy) of FLANN approximation is:  0.13770000000000004\n",
      "the test error(inaccuracy) of FLANN approximation is:  0.15290000000000004\n",
      "the test error(inaccuracy) of FLANN approximation is:  0.14939999999999998\n",
      "the test error(inaccuracy) of FLANN approximation is:  0.14449999999999996\n",
      "the test error(inaccuracy) of FLANN approximation is:  0.1523\n",
      "the test error(inaccuracy) of FLANN approximation is:  0.14790000000000003\n",
      "the test error(inaccuracy) of FLANN approximation is:  0.14990000000000003\n",
      "the test error(inaccuracy) of FLANN approximation is:  0.14780000000000004\n",
      "the test error(inaccuracy) of FLANN approximation is:  0.14959999999999996\n",
      "1.01 s ± 59.1 ms per loop (mean ± std. dev. of 10 runs, 1 loop each)\n"
     ]
    }
   ],
   "source": [
    "%%timeit -n 1 -r 10\n",
    "\n",
    "y_pred_flann = flann_knn.predict(X_test)\n",
    "test_flann_error_rate = 1 - accuracy_score(y_pred_flann, y_test)\n",
    "print(\"the test error(inaccuracy) of FLANN approximation is: \", test_flann_error_rate)  # equals the above result"
   ]
  },
  {
   "cell_type": "code",
   "execution_count": null,
   "metadata": {},
   "outputs": [],
   "source": []
  }
 ],
 "metadata": {
  "colab": {
   "name": "exercise_1.ipynb",
   "provenance": []
  },
  "kernel_info": {
   "name": "python3"
  },
  "kernelspec": {
   "display_name": "Python 3",
   "language": "python",
   "name": "python3"
  },
  "language_info": {
   "codemirror_mode": {
    "name": "ipython",
    "version": 3
   },
   "file_extension": ".py",
   "mimetype": "text/x-python",
   "name": "python",
   "nbconvert_exporter": "python",
   "pygments_lexer": "ipython3",
   "version": "3.7.3"
  },
  "nteract": {
   "version": "0.15.0"
  }
 },
 "nbformat": 4,
 "nbformat_minor": 1
}
